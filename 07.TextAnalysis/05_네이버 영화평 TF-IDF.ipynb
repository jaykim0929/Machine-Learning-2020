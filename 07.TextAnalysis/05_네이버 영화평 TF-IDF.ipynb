{
 "metadata": {
  "language_info": {
   "codemirror_mode": {
    "name": "ipython",
    "version": 3
   },
   "file_extension": ".py",
   "mimetype": "text/x-python",
   "name": "python",
   "nbconvert_exporter": "python",
   "pygments_lexer": "ipython3",
   "version": "3.8.3-final"
  },
  "orig_nbformat": 2,
  "kernelspec": {
   "name": "python3",
   "display_name": "Python 3",
   "language": "python"
  }
 },
 "nbformat": 4,
 "nbformat_minor": 2,
 "cells": [
  {
   "source": [
    "# 네이버 영화평 감성분석 - TfidfVectorizer"
   ],
   "cell_type": "markdown",
   "metadata": {}
  },
  {
   "cell_type": "code",
   "execution_count": 1,
   "metadata": {},
   "outputs": [],
   "source": [
    "import numpy as np\n",
    "import pandas as pd"
   ]
  },
  {
   "cell_type": "code",
   "execution_count": 2,
   "metadata": {},
   "outputs": [],
   "source": [
    "train_df = pd.read_csv('../00.data/NaverMovie/train.tsv', sep='\\t')\n",
    "test_df = pd.read_csv('../00.data/NaverMovie/test.tsv', sep='\\t')\n"
   ]
  },
  {
   "cell_type": "code",
   "execution_count": null,
   "metadata": {},
   "outputs": [],
   "source": []
  },
  {
   "source": [
    "### Tokenizer 함수 정의"
   ],
   "cell_type": "markdown",
   "metadata": {}
  },
  {
   "cell_type": "code",
   "execution_count": 3,
   "metadata": {},
   "outputs": [],
   "source": [
    "from konlpy.tag import Okt\n",
    "\n",
    "okt = Okt()\n",
    "def tw_tokenizer(text):\n",
    "    tokens_ko = okt.morphs(text)\n",
    "    return tokens_ko"
   ]
  },
  {
   "source": [
    "### TfidfVectorizer 로 학습/ 변환"
   ],
   "cell_type": "markdown",
   "metadata": {}
  },
  {
   "cell_type": "code",
   "execution_count": 4,
   "metadata": {},
   "outputs": [],
   "source": [
    "from sklearn.feature_extraction.text import TfidfVectorizer\n",
    "\n",
    "tvecter = TfidfVectorizer(tokenizer=tw_tokenizer, ngram_range=(1,2),\n",
    "                          min_df=3, max_df=0.9)"
   ]
  },
  {
   "cell_type": "code",
   "execution_count": 5,
   "metadata": {},
   "outputs": [
    {
     "output_type": "stream",
     "name": "stdout",
     "text": [
      "Wall time: 3min 52s\n"
     ]
    },
    {
     "output_type": "execute_result",
     "data": {
      "text/plain": [
       "TfidfVectorizer(max_df=0.9, min_df=3, ngram_range=(1, 2),\n",
       "                tokenizer=<function tw_tokenizer at 0x0000029B9810A4C0>)"
      ]
     },
     "metadata": {},
     "execution_count": 5
    }
   ],
   "source": [
    "%time tvecter.fit(train_df.document)"
   ]
  },
  {
   "cell_type": "code",
   "execution_count": 6,
   "metadata": {},
   "outputs": [
    {
     "output_type": "stream",
     "name": "stdout",
     "text": [
      "Wall time: 4min 11s\n"
     ]
    }
   ],
   "source": [
    "%time X_train_tvect = tvecter.transform(train_df['document'])"
   ]
  },
  {
   "cell_type": "code",
   "execution_count": 7,
   "metadata": {},
   "outputs": [
    {
     "output_type": "stream",
     "name": "stdout",
     "text": [
      "Wall time: 1min 21s\n"
     ]
    }
   ],
   "source": [
    "%time X_test_tvect = tvecter.transform(test_df['document'])"
   ]
  },
  {
   "cell_type": "code",
   "execution_count": 8,
   "metadata": {},
   "outputs": [],
   "source": [
    "y_train = train_df.label.values\n",
    "y_test = test_df.label.values"
   ]
  },
  {
   "source": [
    "### LogisticRegression 으로 학습/예측/평가"
   ],
   "cell_type": "markdown",
   "metadata": {}
  },
  {
   "cell_type": "code",
   "execution_count": 9,
   "metadata": {},
   "outputs": [],
   "source": [
    "from sklearn.linear_model import LogisticRegression\n",
    "from sklearn.metrics import accuracy_score"
   ]
  },
  {
   "cell_type": "code",
   "execution_count": 10,
   "metadata": {},
   "outputs": [
    {
     "output_type": "execute_result",
     "data": {
      "text/plain": [
       "0.8590672517603837"
      ]
     },
     "metadata": {},
     "execution_count": 10
    }
   ],
   "source": [
    "lr_clf = LogisticRegression(C=3.5)\n",
    "lr_clf.fit(X_train_tvect, y_train)\n",
    "pred = lr_clf.predict(X_test_tvect)\n",
    "accuracy_score(y_test, pred)"
   ]
  },
  {
   "source": [
    "### 실제 테스트"
   ],
   "cell_type": "markdown",
   "metadata": {}
  },
  {
   "cell_type": "code",
   "execution_count": 11,
   "metadata": {},
   "outputs": [],
   "source": [
    "review1 = '진짜 개노잼이다.. 1편이랑 같은 감독맞나?러닝타임도 길어서 개지루함 ㄹㅇ'\n",
    "review2 = '이런 사랑영화가 다시 나올 수 있을까?'"
   ]
  },
  {
   "cell_type": "code",
   "execution_count": 12,
   "metadata": {},
   "outputs": [
    {
     "output_type": "execute_result",
     "data": {
      "text/plain": [
       "0"
      ]
     },
     "metadata": {},
     "execution_count": 12
    }
   ],
   "source": [
    "import re\n",
    "review = re.sub(\"[^ㄱ-ㅎㅏ-ㅣ가-힣 ]\",\"\", review1)\n",
    "review_tvect = tvecter.transform([review])\n",
    "pred = lr_clf.predict(review_tvect)\n",
    "pred[0]"
   ]
  },
  {
   "cell_type": "code",
   "execution_count": 13,
   "metadata": {},
   "outputs": [
    {
     "output_type": "execute_result",
     "data": {
      "text/plain": [
       "1"
      ]
     },
     "metadata": {},
     "execution_count": 13
    }
   ],
   "source": [
    "review = re.sub(\"[^ㄱ-ㅎㅏ-ㅣ가-힣 ]\",\"\", review2)\n",
    "review_tvect = tvecter.transform([review])\n",
    "pred = lr_clf.predict(review_tvect)\n",
    "pred[0]"
   ]
  },
  {
   "cell_type": "code",
   "execution_count": 14,
   "metadata": {},
   "outputs": [],
   "source": [
    "reviews = ['진짜 개노잼이다.. 1편이랑 같은 감독맞나?러닝타임도 길어서 개지루함 ㄹㅇ',\n",
    "           '이런 사랑영화가 다시 나올 수 있을까?']"
   ]
  },
  {
   "cell_type": "code",
   "execution_count": 15,
   "metadata": {},
   "outputs": [
    {
     "output_type": "stream",
     "name": "stdout",
     "text": [
      "['진짜 개노잼이다 편이랑 같은 감독맞나러닝타임도 길어서 개지루함 ㄹㅇ', '이런 사랑영화가 다시 나올 수 있을까']\n"
     ]
    }
   ],
   "source": [
    "reviews = list(map(lambda x: re.sub(\"[^ㄱ-ㅎㅏ-ㅣ가-힣 ]\",\"\", x), reviews))\n",
    "print(reviews)"
   ]
  },
  {
   "cell_type": "code",
   "execution_count": 16,
   "metadata": {},
   "outputs": [
    {
     "output_type": "execute_result",
     "data": {
      "text/plain": [
       "(0, 1)"
      ]
     },
     "metadata": {},
     "execution_count": 16
    }
   ],
   "source": [
    "review_tvect = tvecter.transform(reviews)\n",
    "pred = lr_clf.predict(review_tvect)\n",
    "pred[0], pred[1]"
   ]
  },
  {
   "source": [
    "### 최적 하이퍼 파라미터 도출"
   ],
   "cell_type": "markdown",
   "metadata": {}
  },
  {
   "cell_type": "code",
   "execution_count": 17,
   "metadata": {},
   "outputs": [
    {
     "output_type": "stream",
     "name": "stdout",
     "text": [
      "Fitting 3 folds for each of 5 candidates, totalling 15 fits\n",
      "[Parallel(n_jobs=1)]: Using backend SequentialBackend with 1 concurrent workers.\n",
      "[Parallel(n_jobs=1)]: Done  15 out of  15 | elapsed:   32.1s finished\n",
      "{'C': 3.5} 0.8551282315094896\n"
     ]
    }
   ],
   "source": [
    "from sklearn.model_selection import GridSearchCV\n",
    "lr_clf = LogisticRegression()\n",
    "params = {\n",
    "    'C': [1, 3, 3.5, 5, 10]\n",
    "}\n",
    "grid_cv = GridSearchCV(lr_clf, param_grid=params, scoring='accuracy', cv=3,\n",
    "                       verbose=1)\n",
    "grid_cv.fit(X_train_tvect, y_train)\n",
    "print(grid_cv.best_params_, grid_cv.best_score_)"
   ]
  },
  {
   "cell_type": "code",
   "execution_count": 18,
   "metadata": {},
   "outputs": [
    {
     "output_type": "stream",
     "name": "stdout",
     "text": [
      "Tfidf Vectorizer + Logistic Regression 정확도: 0.8591\n"
     ]
    }
   ],
   "source": [
    "pred = grid_cv.predict(X_test_tvect)\n",
    "acc = accuracy_score(y_test, pred)\n",
    "print(f'Tfidf Vectorizer + Logistic Regression 정확도: {acc:.4f}')"
   ]
  },
  {
   "cell_type": "code",
   "execution_count": null,
   "metadata": {},
   "outputs": [],
   "source": []
  },
  {
   "cell_type": "code",
   "execution_count": null,
   "metadata": {},
   "outputs": [],
   "source": []
  },
  {
   "cell_type": "code",
   "execution_count": null,
   "metadata": {},
   "outputs": [],
   "source": []
  }
 ]
}